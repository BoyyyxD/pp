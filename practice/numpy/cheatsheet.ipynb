{
 "cells": [
  {
   "cell_type": "markdown",
   "metadata": {},
   "source": [
    "## Cheat sheet for `Numpy`"
   ]
  },
  {
   "cell_type": "code",
   "execution_count": 3,
   "metadata": {},
   "outputs": [
    {
     "data": {
      "text/plain": [
       "'1.26.4'"
      ]
     },
     "execution_count": 3,
     "metadata": {},
     "output_type": "execute_result"
    }
   ],
   "source": [
    "import numpy as np\n",
    "# check for version\n",
    "np.__version__"
   ]
  },
  {
   "cell_type": "markdown",
   "metadata": {},
   "source": [
    "## `Ndarray` class\n",
    "`Numpy` array class is called `ndarray`. Function to create - `array`\n",
    "`ndarray` has the following attributes:\n",
    "1) `ndim`  - number of dimensions or axes of the array (scalar - 0)\n",
    "2) `shape` - tuple of non-negative integers that specify the number of elements in each dimension\n",
    "3) `size`  - total number of elements in the array\n",
    "4) `dtype` - data type (list of data types??)\n",
    "5) `flat` - returns 1-D flatten iterator over the array\n",
    "6) `itemsize` - length of one array element in `bytes`.\n",
    "#### Notes:\n",
    "* Indexing starts normal, from 0 (unlike `R`)\n",
    "* Arrays are typically “homogeneous”, meaning that they contain elements of only one “data type”. "
   ]
  },
  {
   "cell_type": "markdown",
   "metadata": {},
   "source": [
    "## Creation of  `ndarray`\n",
    "\n",
    "* #### Intrinsic:\n",
    "1) `zeros(shape)`              - filled with 0\n",
    "2) `ones(shape)`               - filled with 1\n",
    "3) `empty(shape)`              - filled with random values (faster than `ones` and `zeros`) \n",
    "4) `arange(start, stop, step)` - same as range\n",
    "5) `linspace(start, stop, num, endpoint, retstep)` - array with values that are spaced linearly in a specified interval:\n",
    "6) `random.random(shape)`\n",
    "7) `random.randint(min, max_exc, shape)`\n",
    "\n",
    "* #### From existing data:  \n",
    "1) `ones_like(ndarray)`\n",
    "2) `zeros_like(ndarray)`\n",
    "\n",
    "* #### Notes:\n",
    "* Default data type is `float64`\n",
    "* `num` is defaulted to 50\n",
    "* `endpoint` indiactes whether the end should be included (default `True`)"
   ]
  },
  {
   "cell_type": "markdown",
   "metadata": {},
   "source": [
    "## Indexing, Slicing & Views\n",
    "* #### Indexing:\n",
    "1) Access elements using arr[a, b, c] indexing;\n",
    "2) arr[m, n] is slower than arr[m][n]\n",
    "3) Supports negative indexing, like regular python\n",
    "* #### Slicing & Views:\n",
    "1) NumPy can make one array appear to change its datatype and shape without touching underlying data, such an array is called `view`\n",
    "2) Changing `view` changes original array, and vice verse. `view` and original array share memory\n",
    "3) To create explicit copy of array, `np.copy(array)` or `arr.copy()` should be used\n",
    "4) Slicing can be `basic` and `advanced`. The basic slice syntax is `i:j:k` (k!=0);\n",
    "basic slicing `ALWAYS creates a view`\n",
    "* #### `Advanced slicing`:\n",
    "* `Advanced` indexing is triggered when the selection object is a non-tuple sequence object, an ndarray, or a tuplel with at least one sequence object or ndarray.\n",
    "* Therefore, from the definition of advanced slicing, x[(1, 2, 3), ] is fundamentally different than x[(1, 2, 3)]. The latter will trigger basic selection, while the former will trigger advanced indexing\n",
    "\n",
    "\n",
    "\n"
   ]
  },
  {
   "cell_type": "markdown",
   "metadata": {},
   "source": [
    "### Adding, removing, and sorting elements\n",
    "1) `np.sort()` - sort along axis\n",
    "2) `np.concatenate()` - concat along axis\n",
    "3) `np.reshape()` - tries to return view\n",
    "4) `np.flatten(oreder='c')`\n"
   ]
  },
  {
   "cell_type": "markdown",
   "metadata": {},
   "source": [
    "## `Matrices`\n",
    "\n",
    "* #### Matrix creation:\n",
    "1) `np.eye(n, m) / np.identity(n, m)` - create identity matrix\n",
    "2) `np.matrix(data)` - create matrix\n",
    "3) `numpy.diag(diagonal_array, k)` - create matrix with diagonal_array as diagonal and 0 everywhere else, \n",
    "4) `np.tril(array, k)` - lower triangular matrix\n",
    "5) `np.triu(array, k)` - upper triangular matrix \n"
   ]
  },
  {
   "cell_type": "markdown",
   "metadata": {},
   "source": []
  },
  {
   "cell_type": "markdown",
   "metadata": {},
   "source": []
  }
 ],
 "metadata": {
  "kernelspec": {
   "display_name": "Python 3",
   "language": "python",
   "name": "python3"
  },
  "language_info": {
   "codemirror_mode": {
    "name": "ipython",
    "version": 3
   },
   "file_extension": ".py",
   "mimetype": "text/x-python",
   "name": "python",
   "nbconvert_exporter": "python",
   "pygments_lexer": "ipython3",
   "version": "3.10.12"
  }
 },
 "nbformat": 4,
 "nbformat_minor": 2
}
