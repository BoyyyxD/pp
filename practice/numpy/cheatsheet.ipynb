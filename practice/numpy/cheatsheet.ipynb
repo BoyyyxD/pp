{
 "cells": [
  {
   "cell_type": "markdown",
   "metadata": {},
   "source": [
    "## Cheat sheet for `Numpy`"
   ]
  },
  {
   "cell_type": "code",
   "execution_count": 3,
   "metadata": {},
   "outputs": [
    {
     "data": {
      "text/plain": [
       "'1.26.4'"
      ]
     },
     "execution_count": 3,
     "metadata": {},
     "output_type": "execute_result"
    }
   ],
   "source": [
    "import numpy as np\n",
    "# check for version\n",
    "np.__version__"
   ]
  },
  {
   "cell_type": "markdown",
   "metadata": {},
   "source": [
    "### `Ndarray` class\n",
    "`Numpy` array class is called `ndarray`. Function to create - `array`\n",
    "`ndarray` has the following attributes:\n",
    "1) `ndim`  - number of dimensions or axes of the array (scalar - 0)\n",
    "2) `shape` - tuple of non-negative integers that specify the number of elements in each dimension\n",
    "3) `size`  - total number of elements in the array\n",
    "4) `dtype` - data type (list of data types??)\n",
    "5) `itemsize` - length of one array element in `bytes`.\n",
    "#### Notes:\n",
    "* Indexing starts normal, from 0 (unlike `R`)\n",
    "* Arrays are typically “homogeneous”, meaning that they contain elements of only one “data type”. "
   ]
  },
  {
   "cell_type": "code",
   "execution_count": 4,
   "metadata": {},
   "outputs": [
    {
     "name": "stdout",
     "output_type": "stream",
     "text": [
      "ndim  =  3\n",
      "shape =  (2, 2, 4)\n",
      "size  =  16\n",
      "dtype =  int64\n"
     ]
    }
   ],
   "source": [
    "arr = np.array([[[1, 3, 5, 7], [9, 11, 13, 15]], [[2, 4, 6, 8], [10, 12, 14, 16]]])\n",
    "print(f\"ndim  =  {arr.ndim}\")\n",
    "print(f\"shape =  {arr.shape}\")\n",
    "print(f\"size  =  {arr.size}\")\n",
    "print(f\"dtype =  {arr.dtype}\")"
   ]
  },
  {
   "cell_type": "markdown",
   "metadata": {},
   "source": [
    "### Create array\n",
    "1) `zeros(shape)`              - filled with 0\n",
    "2) `ones(shape)`               - filled with 1\n",
    "3) `empty(shape)`              - filled with random values (faster than `ones` and `zeros`) \n",
    "4) `arange(start, stop, step)` - same as range\n",
    "5) `linspace(start, stop, num, endpoint, retstep)` - array with values that are spaced linearly in a specified interval:\n",
    "\n",
    "\n",
    "#### Notes:\n",
    "* Default data type is `float64`\n",
    "* `num` is defaulted to 50\n",
    "* `endpoint` indiactes whether the end should be included (default `True`)"
   ]
  },
  {
   "cell_type": "code",
   "execution_count": 13,
   "metadata": {},
   "outputs": [
    {
     "name": "stdout",
     "output_type": "stream",
     "text": [
      "np.zeros((1, 2))=array([[0., 0.]])\n",
      "np.ones((2, 3))=array([[1., 1., 1.],\n",
      "       [1., 1., 1.]])\n",
      "np.empty((2, 3, 1))=array([[[1.],\n",
      "        [1.],\n",
      "        [1.]],\n",
      "\n",
      "       [[1.],\n",
      "        [1.],\n",
      "        [1.]]])\n",
      "[0 1 2 3 4]\n",
      "np.linspace(1, 5, 1)=array([1.])\n",
      "Without endpoint: \n",
      " [1.  1.8 2.6 3.4 4.2]\n",
      "With retstep returns both array and step: \n",
      " (array([7.  , 7.25, 7.5 , 7.75, 8.  ]), 0.25)\n"
     ]
    }
   ],
   "source": [
    "print(f\"{np.zeros((1, 2))=}\")\n",
    "print(f\"{np.ones((2, 3))=}\")\n",
    "print(f\"{np.empty((2, 3, 1))=}\")\n",
    "print(f\"{np.arange(5)}\")\n",
    "\n",
    "print(f\"{np.linspace(1, 5, 1)=}\")\n",
    "\n",
    "print(f\"Without endpoint: \\n {np.linspace(1, 5, 5, endpoint=False)}\")\n",
    "print(f\"With retstep returns both array and step: \\n {np.linspace(7, 8, 5, retstep=True)}\")\n",
    "\n"
   ]
  },
  {
   "cell_type": "markdown",
   "metadata": {},
   "source": [
    "### Adding, removing, and sorting elements\n",
    "1) `np.sort()` - sort along axis\n",
    "2) `np.concatenate()` - concat along axis\n",
    "3) `np.reshape()`\n"
   ]
  },
  {
   "cell_type": "code",
   "execution_count": 17,
   "metadata": {},
   "outputs": [
    {
     "name": "stdout",
     "output_type": "stream",
     "text": [
      "sort: [-7 -5 -3  1  4  8 10]\n",
      "concat: [ 1 -5 -7  8 10 -3  4 -7 -5 -3  1  4  8 10]\n",
      "Before sorting: [[1. 1. 1.]\n",
      " [1. 1. 1.]]  Sort along 0 axis: [[1. 1. 1.]\n",
      " [1. 1. 1.]]\n",
      "reshape: [1. 1. 1. 1. 1. 1.]\n"
     ]
    }
   ],
   "source": [
    "arr = np.array([1, -5, -7, 8, 10, -3, 4])\n",
    "print(f\"Initial array: {arr} \\n sort: {np.sort(arr)}\")\n",
    "\n",
    "print(f\"concat initial and sorted: {np.concatenate((arr, np.sort(arr)))}\")\n",
    "\n",
    "arr = np.empty((2, 3))\n",
    "print(f\"Before sorting: {arr}  Sort along 0 axis: {np.sort(arr, axis=0)}\")\n",
    "\n",
    "print(f\"reshape: {np.reshape(arr, (arr.size))}\")\n",
    "\n"
   ]
  },
  {
   "cell_type": "code",
   "execution_count": null,
   "metadata": {},
   "outputs": [],
   "source": []
  },
  {
   "cell_type": "markdown",
   "metadata": {},
   "source": [
    "ndmin - ?"
   ]
  }
 ],
 "metadata": {
  "kernelspec": {
   "display_name": "Python 3",
   "language": "python",
   "name": "python3"
  },
  "language_info": {
   "codemirror_mode": {
    "name": "ipython",
    "version": 3
   },
   "file_extension": ".py",
   "mimetype": "text/x-python",
   "name": "python",
   "nbconvert_exporter": "python",
   "pygments_lexer": "ipython3",
   "version": "3.10.12"
  }
 },
 "nbformat": 4,
 "nbformat_minor": 2
}
