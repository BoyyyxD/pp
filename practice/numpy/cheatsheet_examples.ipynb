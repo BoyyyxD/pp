{
 "cells": [
  {
   "cell_type": "markdown",
   "metadata": {},
   "source": [
    "## Cheat sheet for `Numpy` with examples"
   ]
  },
  {
   "cell_type": "code",
   "execution_count": 1,
   "metadata": {},
   "outputs": [
    {
     "data": {
      "text/plain": [
       "'1.26.4'"
      ]
     },
     "execution_count": 1,
     "metadata": {},
     "output_type": "execute_result"
    }
   ],
   "source": [
    "import numpy as np\n",
    "# check for version\n",
    "np.__version__"
   ]
  },
  {
   "cell_type": "markdown",
   "metadata": {},
   "source": [
    "## `Ndarray` class\n",
    "`Numpy` array class is called `ndarray`. Function to create - `array`\n",
    "`ndarray` has the following attributes:\n",
    "1) `ndim`  - number of dimensions or axes of the array (scalar - 0)\n",
    "2) `shape` - tuple of non-negative integers that specify the number of elements in each dimension\n",
    "3) `size`  - total number of elements in the array\n",
    "4) `dtype` - data type (list of data types??)\n",
    "5) `flat` - returns 1-D flatten iterator over the array\n",
    "6) `itemsize` - length of one array element in `bytes`.\n",
    "#### Notes:\n",
    "* Indexing starts normal, from 0 (unlike `R`)\n",
    "* Arrays are typically “homogeneous”, meaning that they contain elements of only one “data type”. "
   ]
  },
  {
   "cell_type": "code",
   "execution_count": 9,
   "metadata": {},
   "outputs": [
    {
     "name": "stdout",
     "output_type": "stream",
     "text": [
      "ndim  =  3\n",
      "shape =  (2, 2, 4)\n",
      "size  =  16\n",
      "dtype =  int64\n",
      "flat =  <numpy.flatiter object at 0x5cbc9f0212e0>\n",
      "flat (converted to array) =  [ 1  3  5  7  9 11 13 15  2  4  6  8 10 12 14 16]\n",
      "itemsize =  8\n"
     ]
    }
   ],
   "source": [
    "arr = np.array([[[1, 3, 5, 7], [9, 11, 13, 15]], [[2, 4, 6, 8], [10, 12, 14, 16]]])\n",
    "print(f\"ndim  =  {arr.ndim}\")\n",
    "print(f\"shape =  {arr.shape}\")\n",
    "print(f\"size  =  {arr.size}\")\n",
    "print(f\"dtype =  {arr.dtype}\")\n",
    "print(f\"flat =  {arr.flat}\")\n",
    "print(f\"flat (converted to array) =  {np.asarray(arr.flat)}\")\n",
    "print(f\"itemsize =  {arr.itemsize}\")\n"
   ]
  },
  {
   "cell_type": "markdown",
   "metadata": {},
   "source": [
    "## Creation of  `ndarray`\n",
    "\n",
    "* #### Intrinsic:\n",
    "1) `zeros(shape)`              - filled with 0\n",
    "2) `ones(shape)`               - filled with 1\n",
    "3) `empty(shape)`              - filled with random values (faster than `ones` and `zeros`) \n",
    "4) `arange(start, stop, step)` - same as range\n",
    "5) `linspace(start, stop, num, endpoint, retstep)` - array with values that are spaced linearly in a specified interval\n",
    "6) `random.random(shape)` - returns array of shape of random values in half-open interval [0, 1)\n",
    "7) `random.randint(min, max_exc, shape)` - returns array of ints, of shape shape starting from min, excluding max_exc\n",
    "\n",
    "* #### From existing data:  \n",
    "1) `ones_like(ndarray)`\n",
    "2) `zeros_like(ndarray)`\n",
    "\n",
    "* #### Notes:\n",
    "* Default data type is `float64`\n",
    "* `num` is defaulted to 50\n",
    "* `endpoint` indiactes whether the end should be included (default `True`)"
   ]
  },
  {
   "cell_type": "code",
   "execution_count": 6,
   "metadata": {},
   "outputs": [
    {
     "name": "stdout",
     "output_type": "stream",
     "text": [
      "Intrinsic: \n",
      "np.zeros(2,3) = \n",
      " [[0. 0. 0.]\n",
      " [0. 0. 0.]]\n",
      "np.ones(2,3) = \n",
      " [[1. 1. 1.]\n",
      " [1. 1. 1.]]\n",
      "np.empty(3, 4) = \n",
      " [[5.03705198e-310 0.00000000e+000 1.01855798e-312 9.54898106e-313]\n",
      " [1.08221785e-312 1.01855798e-312 1.23075756e-312 1.10343781e-312]\n",
      " [1.03977794e-312 9.76118064e-313 1.01855798e-312 1.90979621e-312]]\n",
      "np.arange(5) = \n",
      " [0 1 2 3 4]\n",
      "np.linspace(1,5,1) = \n",
      " [1. 2. 3. 4. 5.]\n",
      "Same Linspace Without endpoint: \n",
      " [1.  1.8 2.6 3.4 4.2]\n",
      "With retstep returns both array and step: \n",
      " (array([7.  , 7.25, 7.5 , 7.75, 8.  ]), 0.25)\n",
      "np.random.random(3, 3) = \n",
      " [[0.38779146 0.30322875 0.11940438]\n",
      " [0.8378572  0.3396763  0.14646799]\n",
      " [0.02900885 0.9350037  0.90565372]]\n",
      "np.random.randint(0,10,(3,3)) = \n",
      " [[8 7 4]\n",
      " [7 8 0]\n",
      " [1 9 8]]\n",
      "\n",
      " From existing data: \n",
      "Original array X = \n",
      " [[ 0 -1  2]\n",
      " [10 14 12]]\n",
      "ones_like(X) = \n",
      " [[1 1 1]\n",
      " [1 1 1]]\n"
     ]
    }
   ],
   "source": [
    "print(\"Intrinsic: \")\n",
    "print(f\"np.zeros(2,3) = \\n {np.zeros((2, 3))}\")\n",
    "print(f\"np.ones(2,3) = \\n {np.ones((2, 3))}\")\n",
    "print(f\"np.empty(3, 4) = \\n {np.empty((3, 4))}\")\n",
    "print(f\"np.arange(5) = \\n {np.arange(5)}\")\n",
    "\n",
    "print(f\"np.linspace(1,5,1) = \\n {np.linspace(1, 5, 5)}\")\n",
    "\n",
    "print(f\"Same Linspace Without endpoint: \\n {np.linspace(1, 5, 5, endpoint=False)}\")\n",
    "print(f\"With retstep returns both array and step: \\n {np.linspace(7, 8, 5, retstep=True)}\")\n",
    "\n",
    "print(f\"np.random.random(3, 3) = \\n {np.random.random((3, 3))}\")\n",
    "print(f\"np.random.randint(0,10,(3,3)) = \\n {np.random.randint(0, 10, (3,3))}\")\n",
    "\n",
    "print(\"\\n From existing data: \")\n",
    "X = np.array([[0, -1, 2], [10, 14, 12]], dtype=np.int64)\n",
    "print(f\"Original array X = \\n {X}\")\n",
    "print(f\"ones_like(X) = \\n {np.ones_like(X)}\")\n",
    "\n"
   ]
  },
  {
   "cell_type": "markdown",
   "metadata": {},
   "source": [
    "### Adding, removing, and sorting elements\n",
    "1) `np.sort()` - sort along axis\n",
    "2) `np.concatenate()` - concat along axis\n",
    "3) `np.reshape()`\n"
   ]
  },
  {
   "cell_type": "code",
   "execution_count": null,
   "metadata": {},
   "outputs": [
    {
     "name": "stdout",
     "output_type": "stream",
     "text": [
      "sort: [-7 -5 -3  1  4  8 10]\n",
      "concat: [ 1 -5 -7  8 10 -3  4 -7 -5 -3  1  4  8 10]\n",
      "Before sorting: [[1. 1. 1.]\n",
      " [1. 1. 1.]]  Sort along 0 axis: [[1. 1. 1.]\n",
      " [1. 1. 1.]]\n",
      "reshape: [1. 1. 1. 1. 1. 1.]\n"
     ]
    }
   ],
   "source": [
    "arr = np.array([1, -5, -7, 8, 10, -3, 4])\n",
    "print(f\"Initial array: {arr} \\n sort: {np.sort(arr)}\")\n",
    "\n",
    "print(f\"concat initial and sorted: {np.concatenate((arr, np.sort(arr)))}\")\n",
    "\n",
    "arr = np.empty((2, 3))\n",
    "print(f\"Before sorting: {arr}  Sort along 0 axis: {np.sort(arr, axis=0)}\")\n",
    "\n",
    "print(f\"reshape: {np.reshape(arr, (arr.size))}\")\n",
    "\n"
   ]
  },
  {
   "cell_type": "code",
   "execution_count": null,
   "metadata": {},
   "outputs": [],
   "source": []
  },
  {
   "cell_type": "markdown",
   "metadata": {},
   "source": [
    "ndmin - ?"
   ]
  }
 ],
 "metadata": {
  "kernelspec": {
   "display_name": "Python 3",
   "language": "python",
   "name": "python3"
  },
  "language_info": {
   "codemirror_mode": {
    "name": "ipython",
    "version": 3
   },
   "file_extension": ".py",
   "mimetype": "text/x-python",
   "name": "python",
   "nbconvert_exporter": "python",
   "pygments_lexer": "ipython3",
   "version": "3.10.12"
  }
 },
 "nbformat": 4,
 "nbformat_minor": 2
}
